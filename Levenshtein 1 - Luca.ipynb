{
 "cells": [
  {
   "cell_type": "markdown",
   "metadata": {},
   "source": [
    "For this implementation I refrained from using the module \"python-Levenshtein\" as this would defeat the purpose of you checking my own way of thinking for this specific problem. However I am making this note in case you wanted to see whether I can locate useful shortcuts for coding tasks."
   ]
  },
  {
   "cell_type": "code",
   "execution_count": 1,
   "metadata": {},
   "outputs": [],
   "source": [
    "#This is the function that gets 2 strings as input (a, b) and returns:\n",
    "# 1 - if the Levenshtein distance of a and b is 1 (and also prints b),\n",
    "# 0 - if it is 0 or more than 1.\n",
    "def my_select(a, b):\n",
    "    #Have the shortest name in str_a and the longest in str_b.\n",
    "    #Also convert the strings to lowercase since \"Luca\" and \"luca\"\n",
    "    #are considered (by me) to be the same name (0 distance).\n",
    "    if len(a) <= len(b):\n",
    "        short_str = a.lower()\n",
    "        long_str = b.lower()\n",
    "    else:\n",
    "        short_str = b.lower()\n",
    "        long_str = a.lower()\n",
    "        \n",
    "    len_short = len(short_str)\n",
    "    len_long = len(long_str)\n",
    "    \n",
    "    if len_long - len_short > 1:\n",
    "        #if the two words are different more than 1 character long ignore that name.\n",
    "        return 0        \n",
    "    elif len_long - len_short == 0:\n",
    "        #if the two words have the same length only the corresponding caracters\n",
    "        #of ONE place in the string can be different.\n",
    "        count = 0\n",
    "        for i in range(len_long):\n",
    "            #count how many differences there are in the names \n",
    "            if short_str[i] != long_str[i]:\n",
    "                count += 1\n",
    "        if count > 1 or count == 0:\n",
    "            return(0)\n",
    "        else:\n",
    "            print(b)\n",
    "            return(1)\n",
    "    else:\n",
    "        #if the two words have exactly one letter difference in length.\n",
    "        flag = 0  #This is a control variable\n",
    "        for i in range(len_long - 1):\n",
    "            if long_str[i] != short_str[i]:\n",
    "                #if a difference is detected\n",
    "                flag = 1\n",
    "                if long_str[i+1:] == short_str[i:]:\n",
    "                    #check if the remaining characters are the same for both words.\n",
    "                    flag = 2\n",
    "                break                \n",
    "        if flag in [0,2]:\n",
    "            print(b)\n",
    "            return(1)\n",
    "        else:\n",
    "            return(0)"
   ]
  },
  {
   "cell_type": "code",
   "execution_count": 2,
   "metadata": {},
   "outputs": [],
   "source": [
    "import pandas as pd\n",
    "data = pd.read_csv('https://data.stadt-zuerich.ch/dataset/sid_stapo_hundenamen/download/20210103_hundenamen.csv')\n",
    "listA = data.iloc[:,0].values"
   ]
  },
  {
   "cell_type": "code",
   "execution_count": 3,
   "metadata": {},
   "outputs": [
    {
     "name": "stdout",
     "output_type": "stream",
     "text": [
      "Luma\n",
      "Luce\n",
      "Yuca\n",
      "Luba\n",
      "Lula\n",
      "Lupa\n",
      "Cuca\n",
      "Lucas\n",
      "Luna\n",
      "Lucia\n",
      "Lucy\n",
      "Lua\n"
     ]
    }
   ],
   "source": [
    "test = []\n",
    "#Because there were a lot of duplicates in the dataset, I used the unique values\n",
    "#only, as including multiple occurances of the same name was deemed redundant.\n",
    "for i in set(listA):\n",
    "    test.append(my_select('Luca',i))"
   ]
  },
  {
   "cell_type": "code",
   "execution_count": null,
   "metadata": {},
   "outputs": [],
   "source": []
  }
 ],
 "metadata": {
  "kernelspec": {
   "display_name": "Python 2",
   "language": "python",
   "name": "python2"
  },
  "language_info": {
   "codemirror_mode": {
    "name": "ipython",
    "version": 2
   },
   "file_extension": ".py",
   "mimetype": "text/x-python",
   "name": "python",
   "nbconvert_exporter": "python",
   "pygments_lexer": "ipython2",
   "version": "2.7.17"
  }
 },
 "nbformat": 4,
 "nbformat_minor": 2
}
